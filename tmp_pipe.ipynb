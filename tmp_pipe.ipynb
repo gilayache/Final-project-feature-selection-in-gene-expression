{
 "cells": [
  {
   "cell_type": "code",
   "execution_count": 69,
   "id": "b3fc13b0-9098-485e-99cc-207990c2c73a",
   "metadata": {
    "tags": []
   },
   "outputs": [],
   "source": [
    "import pandas as pd\n",
    "import numpy as np\n",
    "from src.Preprocessing import preprocesing\n",
    "from src.feature_selection import feature_selection_classification\n",
    "from sklearn.pipeline import FeatureUnion, Pipeline"
   ]
  },
  {
   "cell_type": "code",
   "execution_count": 62,
   "id": "7a3a0350-a424-4819-8549-b61772830f9d",
   "metadata": {
    "tags": []
   },
   "outputs": [],
   "source": [
    "data = pd.read_csv('data/processed/merged_dataset.csv')"
   ]
  },
  {
   "cell_type": "code",
   "execution_count": 63,
   "id": "00f05b0b-3172-42fb-8445-1f3e6eb64d36",
   "metadata": {
    "tags": []
   },
   "outputs": [],
   "source": [
    "# split x_y\n",
    "# todo: split into train test valid? \n",
    "# then use fit - transform of the pipeline \n",
    "# todo: create eval_results methods \n"
   ]
  },
  {
   "cell_type": "code",
   "execution_count": 73,
   "id": "862a5f0b-571e-46e1-b308-9fb4059af9ad",
   "metadata": {},
   "outputs": [],
   "source": [
    "# todo: to use the pipeline below we should use classes. should i build a class for each method? ie we will have a Preprocessing class, Feature Selection class and models class for sure\n",
    "# pipeline = Pipeline(steps=[\n",
    "#         ('remove_constant_cols', preprocessing.remove_constant_columns()),\n",
    "#         ('remove_nan_columns', preprocessing.remove_nan_columns())\n",
    "#         ('select_features', feature_selection_classification.mrmr())])"
   ]
  },
  {
   "cell_type": "code",
   "execution_count": null,
   "id": "9847e02e-d173-42c1-bf72-c688802df5b5",
   "metadata": {},
   "outputs": [],
   "source": [
    "# pipeline.fit(X_train, y_train)\n"
   ]
  }
 ],
 "metadata": {
  "kernelspec": {
   "display_name": "Python 3 (ipykernel)",
   "language": "python",
   "name": "python3"
  },
  "language_info": {
   "codemirror_mode": {
    "name": "ipython",
    "version": 3
   },
   "file_extension": ".py",
   "mimetype": "text/x-python",
   "name": "python",
   "nbconvert_exporter": "python",
   "pygments_lexer": "ipython3",
   "version": "3.8.7"
  }
 },
 "nbformat": 4,
 "nbformat_minor": 5
}