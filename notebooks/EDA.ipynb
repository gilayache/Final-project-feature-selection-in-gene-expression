{
 "cells": [
  {
   "cell_type": "markdown",
   "id": "290a2f9e",
   "metadata": {},
   "source": [
    "##  read the merged dataframe"
   ]
  },
  {
   "cell_type": "code",
   "execution_count": 1,
   "id": "718741d5",
   "metadata": {},
   "outputs": [],
   "source": [
    "import pandas as pd\n",
    "import seaborn as sns\n",
    "import os"
   ]
  },
  {
   "cell_type": "code",
   "execution_count": 2,
   "id": "290d1c42",
   "metadata": {},
   "outputs": [
    {
     "data": {
      "text/plain": [
       "'/Users/gilayache/PycharmProjects/Final-project-feature-selection-in-gene-expression/notebooks/../data/processed/merged_dataset.csv'"
      ]
     },
     "execution_count": 2,
     "metadata": {},
     "output_type": "execute_result"
    }
   ],
   "source": [
    "current_dir = %pwd\n",
    "file_dir = os.path.join(current_dir, \"..\", \"data/processed\", \"merged_dataset.csv\")\n",
    "file_dir"
   ]
  },
  {
   "cell_type": "code",
   "execution_count": 3,
   "id": "1376c295",
   "metadata": {},
   "outputs": [
    {
     "data": {
      "text/html": [
       "<div>\n",
       "<style scoped>\n",
       "    .dataframe tbody tr th:only-of-type {\n",
       "        vertical-align: middle;\n",
       "    }\n",
       "\n",
       "    .dataframe tbody tr th {\n",
       "        vertical-align: top;\n",
       "    }\n",
       "\n",
       "    .dataframe thead th {\n",
       "        text-align: right;\n",
       "    }\n",
       "</style>\n",
       "<table border=\"1\" class=\"dataframe\">\n",
       "  <thead>\n",
       "    <tr style=\"text-align: right;\">\n",
       "      <th></th>\n",
       "      <th>samplename</th>\n",
       "      <th>A2M</th>\n",
       "      <th>A4GNT</th>\n",
       "      <th>AAAS</th>\n",
       "      <th>AACS</th>\n",
       "      <th>AADAC</th>\n",
       "      <th>AAK1</th>\n",
       "      <th>AAMP</th>\n",
       "      <th>AARS</th>\n",
       "      <th>AASDHPPT</th>\n",
       "      <th>...</th>\n",
       "      <th>ZXDA</th>\n",
       "      <th>ZXDC</th>\n",
       "      <th>ZYX</th>\n",
       "      <th>ZZEF1</th>\n",
       "      <th>ER</th>\n",
       "      <th>PAM50</th>\n",
       "      <th>time</th>\n",
       "      <th>event</th>\n",
       "      <th>Lympho</th>\n",
       "      <th>cluster2</th>\n",
       "    </tr>\n",
       "  </thead>\n",
       "  <tbody>\n",
       "    <tr>\n",
       "      <th>0</th>\n",
       "      <td>F1</td>\n",
       "      <td>-1.098234</td>\n",
       "      <td>-0.615048</td>\n",
       "      <td>-1.670827</td>\n",
       "      <td>-0.539020</td>\n",
       "      <td>0.098325</td>\n",
       "      <td>-1.989513</td>\n",
       "      <td>-0.376823</td>\n",
       "      <td>0.439949</td>\n",
       "      <td>-0.990079</td>\n",
       "      <td>...</td>\n",
       "      <td>2.314161</td>\n",
       "      <td>0.481213</td>\n",
       "      <td>-0.277116</td>\n",
       "      <td>-1.183044</td>\n",
       "      <td>1</td>\n",
       "      <td>Basal</td>\n",
       "      <td>2367</td>\n",
       "      <td>0</td>\n",
       "      <td>2.602223</td>\n",
       "      <td>6</td>\n",
       "    </tr>\n",
       "    <tr>\n",
       "      <th>1</th>\n",
       "      <td>F2</td>\n",
       "      <td>0.110096</td>\n",
       "      <td>-0.615048</td>\n",
       "      <td>0.248934</td>\n",
       "      <td>0.032084</td>\n",
       "      <td>0.262344</td>\n",
       "      <td>-1.211690</td>\n",
       "      <td>-0.480422</td>\n",
       "      <td>-0.933772</td>\n",
       "      <td>-0.392950</td>\n",
       "      <td>...</td>\n",
       "      <td>0.239147</td>\n",
       "      <td>-1.087827</td>\n",
       "      <td>1.399415</td>\n",
       "      <td>-1.203251</td>\n",
       "      <td>2</td>\n",
       "      <td>LumA</td>\n",
       "      <td>2367</td>\n",
       "      <td>0</td>\n",
       "      <td>1.104544</td>\n",
       "      <td>5</td>\n",
       "    </tr>\n",
       "    <tr>\n",
       "      <th>2</th>\n",
       "      <td>F3</td>\n",
       "      <td>-1.779393</td>\n",
       "      <td>-0.615048</td>\n",
       "      <td>-0.422635</td>\n",
       "      <td>0.392158</td>\n",
       "      <td>-0.711190</td>\n",
       "      <td>-0.210792</td>\n",
       "      <td>1.145994</td>\n",
       "      <td>1.938679</td>\n",
       "      <td>-0.093394</td>\n",
       "      <td>...</td>\n",
       "      <td>-1.593300</td>\n",
       "      <td>0.110658</td>\n",
       "      <td>0.481292</td>\n",
       "      <td>-0.641483</td>\n",
       "      <td>2</td>\n",
       "      <td>LumB</td>\n",
       "      <td>2168</td>\n",
       "      <td>1</td>\n",
       "      <td>0.581018</td>\n",
       "      <td>5</td>\n",
       "    </tr>\n",
       "    <tr>\n",
       "      <th>3</th>\n",
       "      <td>F4</td>\n",
       "      <td>0.268360</td>\n",
       "      <td>-0.615048</td>\n",
       "      <td>0.236302</td>\n",
       "      <td>0.563540</td>\n",
       "      <td>-0.373168</td>\n",
       "      <td>-0.839605</td>\n",
       "      <td>0.753860</td>\n",
       "      <td>1.562852</td>\n",
       "      <td>0.933071</td>\n",
       "      <td>...</td>\n",
       "      <td>1.002772</td>\n",
       "      <td>0.294238</td>\n",
       "      <td>0.449014</td>\n",
       "      <td>0.854496</td>\n",
       "      <td>2</td>\n",
       "      <td>LumA</td>\n",
       "      <td>2416</td>\n",
       "      <td>0</td>\n",
       "      <td>2.882004</td>\n",
       "      <td>6</td>\n",
       "    </tr>\n",
       "    <tr>\n",
       "      <th>4</th>\n",
       "      <td>F5</td>\n",
       "      <td>0.616851</td>\n",
       "      <td>-0.615048</td>\n",
       "      <td>-0.988261</td>\n",
       "      <td>-0.083663</td>\n",
       "      <td>0.067739</td>\n",
       "      <td>-0.732227</td>\n",
       "      <td>-0.760831</td>\n",
       "      <td>-0.655655</td>\n",
       "      <td>-0.962107</td>\n",
       "      <td>...</td>\n",
       "      <td>1.244214</td>\n",
       "      <td>1.526451</td>\n",
       "      <td>0.095333</td>\n",
       "      <td>0.700526</td>\n",
       "      <td>2</td>\n",
       "      <td>Normal</td>\n",
       "      <td>2389</td>\n",
       "      <td>0</td>\n",
       "      <td>1.013356</td>\n",
       "      <td>4</td>\n",
       "    </tr>\n",
       "  </tbody>\n",
       "</table>\n",
       "<p>5 rows × 9271 columns</p>\n",
       "</div>"
      ],
      "text/plain": [
       "  samplename       A2M     A4GNT      AAAS      AACS     AADAC      AAK1  \\\n",
       "0         F1 -1.098234 -0.615048 -1.670827 -0.539020  0.098325 -1.989513   \n",
       "1         F2  0.110096 -0.615048  0.248934  0.032084  0.262344 -1.211690   \n",
       "2         F3 -1.779393 -0.615048 -0.422635  0.392158 -0.711190 -0.210792   \n",
       "3         F4  0.268360 -0.615048  0.236302  0.563540 -0.373168 -0.839605   \n",
       "4         F5  0.616851 -0.615048 -0.988261 -0.083663  0.067739 -0.732227   \n",
       "\n",
       "       AAMP      AARS  AASDHPPT  ...      ZXDA      ZXDC       ZYX     ZZEF1  \\\n",
       "0 -0.376823  0.439949 -0.990079  ...  2.314161  0.481213 -0.277116 -1.183044   \n",
       "1 -0.480422 -0.933772 -0.392950  ...  0.239147 -1.087827  1.399415 -1.203251   \n",
       "2  1.145994  1.938679 -0.093394  ... -1.593300  0.110658  0.481292 -0.641483   \n",
       "3  0.753860  1.562852  0.933071  ...  1.002772  0.294238  0.449014  0.854496   \n",
       "4 -0.760831 -0.655655 -0.962107  ...  1.244214  1.526451  0.095333  0.700526   \n",
       "\n",
       "   ER   PAM50  time  event    Lympho  cluster2  \n",
       "0   1   Basal  2367      0  2.602223         6  \n",
       "1   2    LumA  2367      0  1.104544         5  \n",
       "2   2    LumB  2168      1  0.581018         5  \n",
       "3   2    LumA  2416      0  2.882004         6  \n",
       "4   2  Normal  2389      0  1.013356         4  \n",
       "\n",
       "[5 rows x 9271 columns]"
      ]
     },
     "execution_count": 3,
     "metadata": {},
     "output_type": "execute_result"
    }
   ],
   "source": [
    "df = pd.read_csv(file_dir)\n",
    "df.head()"
   ]
  },
  {
   "cell_type": "code",
   "execution_count": 4,
   "id": "a48b8282",
   "metadata": {},
   "outputs": [
    {
     "data": {
      "text/plain": [
       "((3069, 9271), 3069)"
      ]
     },
     "execution_count": 4,
     "metadata": {},
     "output_type": "execute_result"
    }
   ],
   "source": [
    "df.shape, len(df.samplename.unique())"
   ]
  },
  {
   "cell_type": "markdown",
   "id": "8aeb639f",
   "metadata": {},
   "source": [
    "### Meaning each row is a unique sample"
   ]
  },
  {
   "cell_type": "markdown",
   "id": "6465e0cb",
   "metadata": {},
   "source": [
    "## ER or Lympho are the labels"
   ]
  },
  {
   "cell_type": "code",
   "execution_count": 5,
   "id": "86754455",
   "metadata": {},
   "outputs": [
    {
     "data": {
      "text/plain": [
       "2    2450\n",
       "1     619\n",
       "Name: ER, dtype: int64"
      ]
     },
     "execution_count": 5,
     "metadata": {},
     "output_type": "execute_result"
    }
   ],
   "source": [
    "df.ER.value_counts()"
   ]
  },
  {
   "cell_type": "code",
   "execution_count": 6,
   "id": "0aace7f3",
   "metadata": {},
   "outputs": [
    {
     "data": {
      "text/plain": [
       "<AxesSubplot:xlabel='Lympho', ylabel='Density'>"
      ]
     },
     "execution_count": 6,
     "metadata": {},
     "output_type": "execute_result"
    },
    {
     "data": {
      "image/png": "[encoded data removed]",
      "text/plain": [
       "<Figure size 432x288 with 1 Axes>"
      ]
     },
     "metadata": {
      "needs_background": "light"
     },
     "output_type": "display_data"
    }
   ],
   "source": [
    "sns.kdeplot(data=df, x=\"Lympho\")"
   ]
  },
  {
   "cell_type": "markdown",
   "id": "469ac3b6",
   "metadata": {},
   "source": [
    "### PAM50 is a 50-gene signature that classifies breast cancer into five molecular intrinsic subtypes: Luminal A, Luminal B, HER2-enriched, Basal-like, and Normal-like (1, 5). Each of the five molecular subtypes varies by their biological properties and prognoses (6, 7)."
   ]
  },
  {
   "cell_type": "code",
   "execution_count": 7,
   "id": "94238139",
   "metadata": {},
   "outputs": [
    {
     "data": {
      "text/plain": [
       "LumA      1540\n",
       "LumB       695\n",
       "Basal      325\n",
       "Her2       307\n",
       "Normal     202\n",
       "Name: PAM50, dtype: int64"
      ]
     },
     "execution_count": 7,
     "metadata": {},
     "output_type": "execute_result"
    }
   ],
   "source": [
    "df.PAM50.value_counts()"
   ]
  },
  {
   "cell_type": "code",
   "execution_count": 8,
   "id": "0bf8f6da",
   "metadata": {},
   "outputs": [
    {
     "data": {
      "text/plain": [
       "<AxesSubplot:xlabel='time', ylabel='Density'>"
      ]
     },
     "execution_count": 8,
     "metadata": {},
     "output_type": "execute_result"
    },
    {
     "data": {
      "image/png": "[encoded data removed]",
      "text/plain": [
       "<Figure size 432x288 with 1 Axes>"
      ]
     },
     "metadata": {
      "needs_background": "light"
     },
     "output_type": "display_data"
    }
   ],
   "source": [
    "sns.kdeplot(data=df, x=\"time\")"
   ]
  },
  {
   "cell_type": "code",
   "execution_count": 9,
   "id": "cbda7ab6",
   "metadata": {},
   "outputs": [
    {
     "data": {
      "text/plain": [
       "0    2747\n",
       "1     322\n",
       "Name: event, dtype: int64"
      ]
     },
     "execution_count": 9,
     "metadata": {},
     "output_type": "execute_result"
    }
   ],
   "source": [
    "df.event.value_counts()"
   ]
  },
  {
   "cell_type": "code",
   "execution_count": 10,
   "id": "d5c6ad98",
   "metadata": {},
   "outputs": [
    {
     "data": {
      "text/plain": [
       "5    1285\n",
       "4     919\n",
       "6     865\n",
       "Name: cluster2, dtype: int64"
      ]
     },
     "execution_count": 10,
     "metadata": {},
     "output_type": "execute_result"
    }
   ],
   "source": [
    "df.cluster2.value_counts()"
   ]
  },
  {
   "cell_type": "code",
   "execution_count": 34,
   "id": "a6add5b9",
   "metadata": {},
   "outputs": [
    {
     "data": {
      "text/html": [
       "<div>\n",
       "<style scoped>\n",
       "    .dataframe tbody tr th:only-of-type {\n",
       "        vertical-align: middle;\n",
       "    }\n",
       "\n",
       "    .dataframe tbody tr th {\n",
       "        vertical-align: top;\n",
       "    }\n",
       "\n",
       "    .dataframe thead th {\n",
       "        text-align: right;\n",
       "    }\n",
       "</style>\n",
       "<table border=\"1\" class=\"dataframe\">\n",
       "  <thead>\n",
       "    <tr style=\"text-align: right;\">\n",
       "      <th></th>\n",
       "      <th>A2M</th>\n",
       "      <th>A4GNT</th>\n",
       "      <th>AAAS</th>\n",
       "      <th>AACS</th>\n",
       "      <th>AADAC</th>\n",
       "      <th>AAK1</th>\n",
       "      <th>AAMP</th>\n",
       "      <th>AARS</th>\n",
       "      <th>AASDHPPT</th>\n",
       "      <th>AASS</th>\n",
       "      <th>...</th>\n",
       "      <th>ZSCAN12</th>\n",
       "      <th>ZSCAN16</th>\n",
       "      <th>ZSCAN18</th>\n",
       "      <th>ZSCAN5A</th>\n",
       "      <th>ZW10</th>\n",
       "      <th>ZWINT</th>\n",
       "      <th>ZXDA</th>\n",
       "      <th>ZXDC</th>\n",
       "      <th>ZYX</th>\n",
       "      <th>ZZEF1</th>\n",
       "    </tr>\n",
       "  </thead>\n",
       "  <tbody>\n",
       "    <tr>\n",
       "      <th>0</th>\n",
       "      <td>-1.098234</td>\n",
       "      <td>-0.615048</td>\n",
       "      <td>-1.670827</td>\n",
       "      <td>-0.539020</td>\n",
       "      <td>0.098325</td>\n",
       "      <td>-1.989513</td>\n",
       "      <td>-0.376823</td>\n",
       "      <td>0.439949</td>\n",
       "      <td>-0.990079</td>\n",
       "      <td>-1.715000</td>\n",
       "      <td>...</td>\n",
       "      <td>-0.271914</td>\n",
       "      <td>-0.607976</td>\n",
       "      <td>-0.349919</td>\n",
       "      <td>-1.740601</td>\n",
       "      <td>0.586037</td>\n",
       "      <td>-0.067762</td>\n",
       "      <td>2.314161</td>\n",
       "      <td>0.481213</td>\n",
       "      <td>-0.277116</td>\n",
       "      <td>-1.183044</td>\n",
       "    </tr>\n",
       "    <tr>\n",
       "      <th>1</th>\n",
       "      <td>0.110096</td>\n",
       "      <td>-0.615048</td>\n",
       "      <td>0.248934</td>\n",
       "      <td>0.032084</td>\n",
       "      <td>0.262344</td>\n",
       "      <td>-1.211690</td>\n",
       "      <td>-0.480422</td>\n",
       "      <td>-0.933772</td>\n",
       "      <td>-0.392950</td>\n",
       "      <td>-0.401287</td>\n",
       "      <td>...</td>\n",
       "      <td>0.316885</td>\n",
       "      <td>-0.130563</td>\n",
       "      <td>1.064711</td>\n",
       "      <td>0.578536</td>\n",
       "      <td>-0.270144</td>\n",
       "      <td>-0.381822</td>\n",
       "      <td>0.239147</td>\n",
       "      <td>-1.087827</td>\n",
       "      <td>1.399415</td>\n",
       "      <td>-1.203251</td>\n",
       "    </tr>\n",
       "    <tr>\n",
       "      <th>2</th>\n",
       "      <td>-1.779393</td>\n",
       "      <td>-0.615048</td>\n",
       "      <td>-0.422635</td>\n",
       "      <td>0.392158</td>\n",
       "      <td>-0.711190</td>\n",
       "      <td>-0.210792</td>\n",
       "      <td>1.145994</td>\n",
       "      <td>1.938679</td>\n",
       "      <td>-0.093394</td>\n",
       "      <td>-2.103685</td>\n",
       "      <td>...</td>\n",
       "      <td>-2.060746</td>\n",
       "      <td>-1.840604</td>\n",
       "      <td>-1.081964</td>\n",
       "      <td>-0.807412</td>\n",
       "      <td>1.520787</td>\n",
       "      <td>1.682110</td>\n",
       "      <td>-1.593300</td>\n",
       "      <td>0.110658</td>\n",
       "      <td>0.481292</td>\n",
       "      <td>-0.641483</td>\n",
       "    </tr>\n",
       "    <tr>\n",
       "      <th>3</th>\n",
       "      <td>0.268360</td>\n",
       "      <td>-0.615048</td>\n",
       "      <td>0.236302</td>\n",
       "      <td>0.563540</td>\n",
       "      <td>-0.373168</td>\n",
       "      <td>-0.839605</td>\n",
       "      <td>0.753860</td>\n",
       "      <td>1.562852</td>\n",
       "      <td>0.933071</td>\n",
       "      <td>0.329659</td>\n",
       "      <td>...</td>\n",
       "      <td>-0.812436</td>\n",
       "      <td>-0.836057</td>\n",
       "      <td>0.505783</td>\n",
       "      <td>-0.035067</td>\n",
       "      <td>-0.184722</td>\n",
       "      <td>1.094690</td>\n",
       "      <td>1.002772</td>\n",
       "      <td>0.294238</td>\n",
       "      <td>0.449014</td>\n",
       "      <td>0.854496</td>\n",
       "    </tr>\n",
       "    <tr>\n",
       "      <th>4</th>\n",
       "      <td>0.616851</td>\n",
       "      <td>-0.615048</td>\n",
       "      <td>-0.988261</td>\n",
       "      <td>-0.083663</td>\n",
       "      <td>0.067739</td>\n",
       "      <td>-0.732227</td>\n",
       "      <td>-0.760831</td>\n",
       "      <td>-0.655655</td>\n",
       "      <td>-0.962107</td>\n",
       "      <td>1.256546</td>\n",
       "      <td>...</td>\n",
       "      <td>1.349677</td>\n",
       "      <td>-0.114500</td>\n",
       "      <td>0.833477</td>\n",
       "      <td>0.179142</td>\n",
       "      <td>-0.989962</td>\n",
       "      <td>-2.177457</td>\n",
       "      <td>1.244214</td>\n",
       "      <td>1.526451</td>\n",
       "      <td>0.095333</td>\n",
       "      <td>0.700526</td>\n",
       "    </tr>\n",
       "    <tr>\n",
       "      <th>...</th>\n",
       "      <td>...</td>\n",
       "      <td>...</td>\n",
       "      <td>...</td>\n",
       "      <td>...</td>\n",
       "      <td>...</td>\n",
       "      <td>...</td>\n",
       "      <td>...</td>\n",
       "      <td>...</td>\n",
       "      <td>...</td>\n",
       "      <td>...</td>\n",
       "      <td>...</td>\n",
       "      <td>...</td>\n",
       "      <td>...</td>\n",
       "      <td>...</td>\n",
       "      <td>...</td>\n",
       "      <td>...</td>\n",
       "      <td>...</td>\n",
       "      <td>...</td>\n",
       "      <td>...</td>\n",
       "      <td>...</td>\n",
       "      <td>...</td>\n",
       "    </tr>\n",
       "    <tr>\n",
       "      <th>3064</th>\n",
       "      <td>-0.186538</td>\n",
       "      <td>2.274780</td>\n",
       "      <td>-0.234717</td>\n",
       "      <td>0.508552</td>\n",
       "      <td>-0.711190</td>\n",
       "      <td>0.906386</td>\n",
       "      <td>0.382058</td>\n",
       "      <td>-0.366158</td>\n",
       "      <td>0.390974</td>\n",
       "      <td>-0.704453</td>\n",
       "      <td>...</td>\n",
       "      <td>-0.763880</td>\n",
       "      <td>-0.616217</td>\n",
       "      <td>0.663460</td>\n",
       "      <td>0.686906</td>\n",
       "      <td>0.108214</td>\n",
       "      <td>0.136289</td>\n",
       "      <td>-0.124213</td>\n",
       "      <td>-0.035275</td>\n",
       "      <td>-0.492908</td>\n",
       "      <td>-0.319413</td>\n",
       "    </tr>\n",
       "    <tr>\n",
       "      <th>3065</th>\n",
       "      <td>-0.071234</td>\n",
       "      <td>0.598461</td>\n",
       "      <td>-0.501922</td>\n",
       "      <td>0.663004</td>\n",
       "      <td>-0.711190</td>\n",
       "      <td>-0.857593</td>\n",
       "      <td>0.431723</td>\n",
       "      <td>1.297162</td>\n",
       "      <td>1.165770</td>\n",
       "      <td>-0.492953</td>\n",
       "      <td>...</td>\n",
       "      <td>-0.718535</td>\n",
       "      <td>0.694139</td>\n",
       "      <td>-0.792876</td>\n",
       "      <td>-0.627458</td>\n",
       "      <td>-0.511481</td>\n",
       "      <td>1.337403</td>\n",
       "      <td>-0.968470</td>\n",
       "      <td>-0.402870</td>\n",
       "      <td>-0.921020</td>\n",
       "      <td>-0.002998</td>\n",
       "    </tr>\n",
       "    <tr>\n",
       "      <th>3066</th>\n",
       "      <td>1.535495</td>\n",
       "      <td>1.185567</td>\n",
       "      <td>0.165044</td>\n",
       "      <td>-0.257163</td>\n",
       "      <td>-0.711190</td>\n",
       "      <td>0.192122</td>\n",
       "      <td>-0.067868</td>\n",
       "      <td>0.392406</td>\n",
       "      <td>1.469082</td>\n",
       "      <td>1.987267</td>\n",
       "      <td>...</td>\n",
       "      <td>2.654414</td>\n",
       "      <td>0.704425</td>\n",
       "      <td>0.925177</td>\n",
       "      <td>-0.031883</td>\n",
       "      <td>0.897376</td>\n",
       "      <td>-1.109247</td>\n",
       "      <td>0.820061</td>\n",
       "      <td>1.185099</td>\n",
       "      <td>0.156364</td>\n",
       "      <td>2.104671</td>\n",
       "    </tr>\n",
       "    <tr>\n",
       "      <th>3067</th>\n",
       "      <td>-2.769459</td>\n",
       "      <td>-0.615048</td>\n",
       "      <td>0.883363</td>\n",
       "      <td>-0.884103</td>\n",
       "      <td>-0.056693</td>\n",
       "      <td>1.461789</td>\n",
       "      <td>0.812750</td>\n",
       "      <td>2.299910</td>\n",
       "      <td>2.563744</td>\n",
       "      <td>-2.053640</td>\n",
       "      <td>...</td>\n",
       "      <td>-1.600549</td>\n",
       "      <td>1.773083</td>\n",
       "      <td>1.361701</td>\n",
       "      <td>-0.892728</td>\n",
       "      <td>0.662348</td>\n",
       "      <td>1.341542</td>\n",
       "      <td>2.011855</td>\n",
       "      <td>0.191484</td>\n",
       "      <td>-3.318711</td>\n",
       "      <td>-1.464728</td>\n",
       "    </tr>\n",
       "    <tr>\n",
       "      <th>3068</th>\n",
       "      <td>1.348425</td>\n",
       "      <td>-0.615048</td>\n",
       "      <td>-1.641798</td>\n",
       "      <td>0.819606</td>\n",
       "      <td>-0.711190</td>\n",
       "      <td>-0.881240</td>\n",
       "      <td>0.900701</td>\n",
       "      <td>2.737374</td>\n",
       "      <td>0.887178</td>\n",
       "      <td>0.271353</td>\n",
       "      <td>...</td>\n",
       "      <td>1.249004</td>\n",
       "      <td>0.679606</td>\n",
       "      <td>-0.377287</td>\n",
       "      <td>0.563338</td>\n",
       "      <td>2.413075</td>\n",
       "      <td>0.457235</td>\n",
       "      <td>0.178224</td>\n",
       "      <td>-0.691673</td>\n",
       "      <td>1.306189</td>\n",
       "      <td>-1.827600</td>\n",
       "    </tr>\n",
       "  </tbody>\n",
       "</table>\n",
       "<p>3069 rows × 9264 columns</p>\n",
       "</div>"
      ],
      "text/plain": [
       "           A2M     A4GNT      AAAS      AACS     AADAC      AAK1      AAMP  \\\n",
       "0    -1.098234 -0.615048 -1.670827 -0.539020  0.098325 -1.989513 -0.376823   \n",
       "1     0.110096 -0.615048  0.248934  0.032084  0.262344 -1.211690 -0.480422   \n",
       "2    -1.779393 -0.615048 -0.422635  0.392158 -0.711190 -0.210792  1.145994   \n",
       "3     0.268360 -0.615048  0.236302  0.563540 -0.373168 -0.839605  0.753860   \n",
       "4     0.616851 -0.615048 -0.988261 -0.083663  0.067739 -0.732227 -0.760831   \n",
       "...        ...       ...       ...       ...       ...       ...       ...   \n",
       "3064 -0.186538  2.274780 -0.234717  0.508552 -0.711190  0.906386  0.382058   \n",
       "3065 -0.071234  0.598461 -0.501922  0.663004 -0.711190 -0.857593  0.431723   \n",
       "3066  1.535495  1.185567  0.165044 -0.257163 -0.711190  0.192122 -0.067868   \n",
       "3067 -2.769459 -0.615048  0.883363 -0.884103 -0.056693  1.461789  0.812750   \n",
       "3068  1.348425 -0.615048 -1.641798  0.819606 -0.711190 -0.881240  0.900701   \n",
       "\n",
       "          AARS  AASDHPPT      AASS  ...   ZSCAN12   ZSCAN16   ZSCAN18  \\\n",
       "0     0.439949 -0.990079 -1.715000  ... -0.271914 -0.607976 -0.349919   \n",
       "1    -0.933772 -0.392950 -0.401287  ...  0.316885 -0.130563  1.064711   \n",
       "2     1.938679 -0.093394 -2.103685  ... -2.060746 -1.840604 -1.081964   \n",
       "3     1.562852  0.933071  0.329659  ... -0.812436 -0.836057  0.505783   \n",
       "4    -0.655655 -0.962107  1.256546  ...  1.349677 -0.114500  0.833477   \n",
       "...        ...       ...       ...  ...       ...       ...       ...   \n",
       "3064 -0.366158  0.390974 -0.704453  ... -0.763880 -0.616217  0.663460   \n",
       "3065  1.297162  1.165770 -0.492953  ... -0.718535  0.694139 -0.792876   \n",
       "3066  0.392406  1.469082  1.987267  ...  2.654414  0.704425  0.925177   \n",
       "3067  2.299910  2.563744 -2.053640  ... -1.600549  1.773083  1.361701   \n",
       "3068  2.737374  0.887178  0.271353  ...  1.249004  0.679606 -0.377287   \n",
       "\n",
       "       ZSCAN5A      ZW10     ZWINT      ZXDA      ZXDC       ZYX     ZZEF1  \n",
       "0    -1.740601  0.586037 -0.067762  2.314161  0.481213 -0.277116 -1.183044  \n",
       "1     0.578536 -0.270144 -0.381822  0.239147 -1.087827  1.399415 -1.203251  \n",
       "2    -0.807412  1.520787  1.682110 -1.593300  0.110658  0.481292 -0.641483  \n",
       "3    -0.035067 -0.184722  1.094690  1.002772  0.294238  0.449014  0.854496  \n",
       "4     0.179142 -0.989962 -2.177457  1.244214  1.526451  0.095333  0.700526  \n",
       "...        ...       ...       ...       ...       ...       ...       ...  \n",
       "3064  0.686906  0.108214  0.136289 -0.124213 -0.035275 -0.492908 -0.319413  \n",
       "3065 -0.627458 -0.511481  1.337403 -0.968470 -0.402870 -0.921020 -0.002998  \n",
       "3066 -0.031883  0.897376 -1.109247  0.820061  1.185099  0.156364  2.104671  \n",
       "3067 -0.892728  0.662348  1.341542  2.011855  0.191484 -3.318711 -1.464728  \n",
       "3068  0.563338  2.413075  0.457235  0.178224 -0.691673  1.306189 -1.827600  \n",
       "\n",
       "[3069 rows x 9264 columns]"
      ]
     },
     "execution_count": 34,
     "metadata": {},
     "output_type": "execute_result"
    }
   ],
   "source": [
    "df.iloc[:,1:-6]"
   ]
  },
  {
   "cell_type": "code",
   "execution_count": null,
   "id": "4d63b898",
   "metadata": {},
   "outputs": [],
   "source": []
  },
  {
   "cell_type": "code",
   "execution_count": null,
   "id": "5aebff37",
   "metadata": {},
   "outputs": [],
   "source": []
  }
 ],
 "metadata": {
  "kernelspec": {
   "display_name": "Python 3 (ipykernel)",
   "language": "python",
   "name": "python3"
  },
  "language_info": {
   "codemirror_mode": {
    "name": "ipython",
    "version": 3
   },
   "file_extension": ".py",
   "mimetype": "text/x-python",
   "name": "python",
   "nbconvert_exporter": "python",
   "pygments_lexer": "ipython3",
   "version": "3.9.7"
  }
 },
 "nbformat": 4,
 "nbformat_minor": 5
}
